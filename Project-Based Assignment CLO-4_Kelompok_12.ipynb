{
 "cells": [
  {
   "cell_type": "markdown",
   "id": "0998ab93",
   "metadata": {},
   "source": [
    "# <center>Project-Based Assignment CLO-4</center>"
   ]
  },
  {
   "cell_type": "markdown",
   "id": "b9dd2c3d",
   "metadata": {},
   "source": [
    "<b>Topik</b>\n",
    "Implementation of Ensemble Method on Classification Task\n",
    "\n",
    "<b>Anggota Kelompok</b>\n",
    "1. BINTAN DINAR ARTAMEVIA - 1301213227\n",
    "2. ATHALLA ARLI ABHINAYA -  1301213217\n"
   ]
  },
  {
   "cell_type": "code",
   "execution_count": null,
   "id": "142d51af",
   "metadata": {},
   "outputs": [],
   "source": [
    "import pandas as pd\n",
    "import numpy as np\n",
    "import matplotlib.pyplot as plt\n",
    "import seaborn as sns"
   ]
  },
  {
   "cell_type": "markdown",
   "id": "f67c8e8d",
   "metadata": {},
   "source": [
    "#### Latar Belakang\n",
    "Dengan menggunakan Metode ensemble ini kelompok kami melibatkan penggabungan prediksi dari beberapa model metode pembelajaran mesin untuk memaksimalkan kinerja secara keseluruhan. dalam tugas kali ini, yang menjadi fokus utama adalah pengimplementasian metode ensemble untuk tugas klasifikasi menggunakan RandomForestClassifier. Dalam tugas kala ini data set yang kami gunakan yaitu berisi informasi tentang hewan, yang bertujuan untuk memprediksi jenis kelas dari hewan-hewan tersebut"
   ]
  },
  {
   "cell_type": "code",
   "execution_count": null,
   "id": "bd1c9727",
   "metadata": {},
   "outputs": [],
   "source": [
    "# Data Preprocessing\n",
    "#drop column animal name\n",
    "\n",
    "zoo.drop(\"animal_name\",axis=1,inplace=True)\n",
    "zoo"
   ]
  },
  {
   "cell_type": "code",
   "execution_count": null,
   "id": "61247c32",
   "metadata": {},
   "outputs": [],
   "source": [
    "#memisahkan kolom class type\n",
    "y=zoo['class_type']\n",
    "X=zoo.drop('class_type',axis=1)"
   ]
  },
  {
   "cell_type": "code",
   "execution_count": null,
   "id": "85ee1df2",
   "metadata": {},
   "outputs": [],
   "source": [
    "from sklearn.preprocessing import MinMaxScaler\n",
    "from sklearn.model_selection import train_test_split"
   ]
  },
  {
   "cell_type": "code",
   "execution_count": null,
   "id": "ef2885dd",
   "metadata": {},
   "outputs": [],
   "source": [
    "X = pd.DataFrame(MinMaxScaler().fit_transform(X), columns = X.columns)\n",
    "X"
   ]
  },
  {
   "cell_type": "code",
   "execution_count": null,
   "id": "48e8df99",
   "metadata": {},
   "outputs": [],
   "source": [
    "X_train, X_test, y_train, y_test = train_test_split(X, y, test_size=0.3, random_state=42)"
   ]
  },
  {
   "cell_type": "code",
   "execution_count": null,
   "id": "f7769541",
   "metadata": {},
   "outputs": [],
   "source": [
    "# Exploration Data Analysis\n",
    "class_zoo = pd.read_csv(\"class.csv\")\n",
    "class_zoo\n",
    "\n",
    "\n"
   ]
  },
  {
   "cell_type": "code",
   "execution_count": null,
   "id": "e69b3aa1",
   "metadata": {},
   "outputs": [],
   "source": [
    "zoo = pd.read_csv(\"zoo.csv\")\n",
    "zoo.head()"
   ]
  },
  {
   "cell_type": "code",
   "execution_count": null,
   "id": "5ea39221",
   "metadata": {},
   "outputs": [],
   "source": [
    "class_zoo.info()"
   ]
  },
  {
   "cell_type": "code",
   "execution_count": null,
   "id": "c5238f16",
   "metadata": {},
   "outputs": [],
   "source": [
    "zoo.info()"
   ]
  },
  {
   "cell_type": "code",
   "execution_count": null,
   "id": "7f4e10af",
   "metadata": {},
   "outputs": [],
   "source": [
    "plot = sns.countplot(x='class_type', data=zoo)\n",
    "for p in plot.patches:\n",
    "        plot.annotate('{:.0f}'.format(p.get_height()), (p.get_x()+0.35, p.get_height()+0.8))"
   ]
  },
  {
   "cell_type": "code",
   "execution_count": null,
   "id": "be1b53a5",
   "metadata": {},
   "outputs": [],
   "source": [
    "corr_matrix=zoo.corr()\n",
    "plt.figure(figsize=(20,12))\n",
    "ax = sns.heatmap(corr_matrix, annot = True, cmap=\"viridis_r\")\n",
    "top, bottom = ax.get_ylim()\n",
    "ax.set_ylim(top+0.5, bottom-0.5)"
   ]
  },
  {
   "cell_type": "markdown",
   "id": "691b437e",
   "metadata": {},
   "source": [
    "#### Ringkasan Metode\n",
    "Data Preprocessing :\n",
    "Langkah awal melibatkan pemuatan dataset, menghapus kolom yang tidak relevan, dan memisahkan variabel target (`class_type') dari fitur. Data kemudian diskalakan menggunakan penskalaan Min-Max. Selain itu, matriks korelasi dataset divisualisasikan menggunakan peta panas.\n",
    "\n",
    "Analisis Data Eksplorasi (EDA) : \n",
    "Statistik deskriptif, seperti plot hitungan dan matriks korelasi, digunakan untuk memahami distribusi kelas dan hubungan antar variabel dalam dataset.\n",
    "\n",
    "Model Dasar(Baseline) :\n",
    "RandomForestClassifier digunakan sebagai model dasar dengan parameter default. Model ini dilatih pada set pelatihan, dan prediksi dibuat pada set pengujian. Akurasi dari model dasar kemudian dihitung dan dicetak.\n",
    "\n",
    "Model Tambahan (train model) :\n",
    "Beberapa model RandomForestClassifier dengan hiperparameter yang berbeda dilatih, dan akurasinya dihitung. Hal ini termasuk variasi dalam jumlah estimator, kedalaman maksimum, bootstrap, dan fitur maksimum.\n",
    "\n",
    "Evaluasi : \n",
    "Kinerja model dievaluasi dengan menggunakan skor akurasi dan matriks kebingungan. Distribusi kelas dalam set pengujian divisualisasikan, dan matriks kebingungan diplot untuk menunjukkan kinerja model yang diprediksi versus kinerja aktual."
   ]
  },
  {
   "cell_type": "code",
   "execution_count": null,
   "id": "348c59c4",
   "metadata": {},
   "outputs": [],
   "source": [
    "# Baseline Model\n",
    "from sklearn.ensemble import RandomForestClassifier\n",
    "from sklearn.metrics import accuracy_score\n",
    "from sklearn.model_selection import GridSearchCV\n",
    "from sklearn.metrics import classification_report\n",
    "\n"
   ]
  },
  {
   "cell_type": "code",
   "execution_count": null,
   "id": "57134c53",
   "metadata": {},
   "outputs": [],
   "source": [
    "model = RandomForestClassifier(n_estimators = 100, criterion='gini',\n",
    "                               min_samples_split=2, min_samples_leaf=1,\n",
    "                               max_features='sqrt', random_state=42)\n",
    "model.fit(X_train, y_train)\n",
    "y_pred = model.predict(X_test)\n",
    "accuracy = accuracy_score(y_test, y_pred)\n",
    "print(\"Accuracy:\", accuracy)"
   ]
  },
  {
   "cell_type": "code",
   "execution_count": null,
   "id": "27ae8626",
   "metadata": {},
   "outputs": [],
   "source": [
    "# Train Model\n",
    "model1 = RandomForestClassifier(n_estimators = 100, max_depth=5, random_state=42)\n",
    "model1.fit(X_train, y_train)\n",
    "y_pred1 = model1.predict(X_test)\n",
    "accuracy = accuracy_score(y_test, y_pred1)\n",
    "print(\"Accuracy:\", accuracy)\n",
    "\n"
   ]
  },
  {
   "cell_type": "code",
   "execution_count": null,
   "id": "8ef533e9",
   "metadata": {},
   "outputs": [],
   "source": [
    "model2 = RandomForestClassifier(n_estimators = 200, max_depth=2,\n",
    "                                bootstrap=False, max_features=\"log2\",\n",
    "                                random_state=42)\n",
    "model2.fit(X_train, y_train)\n",
    "y_pred2 = model2.predict(X_test)\n",
    "accuracy = accuracy_score(y_test, y_pred2)\n",
    "print(\"Accuracy:\", accuracy)"
   ]
  },
  {
   "cell_type": "code",
   "execution_count": null,
   "id": "029f0a4d",
   "metadata": {},
   "outputs": [],
   "source": [
    "model3 = RandomForestClassifier(n_estimators = 10, max_depth=10,\n",
    "                                min_weight_fraction_leaf=0.1,\n",
    "                                random_state=42)\n",
    "model3.fit(X_train, y_train)\n",
    "y_pred3 = model3.predict(X_test)\n",
    "accuracy = accuracy_score(y_test, y_pred3)\n",
    "print(\"Accuracy:\", accuracy)"
   ]
  },
  {
   "cell_type": "code",
   "execution_count": null,
   "id": "db175b05",
   "metadata": {},
   "outputs": [],
   "source": [
    "# Evaluation\n",
    "from sklearn.metrics import confusion_matrix\n",
    "\n"
   ]
  },
  {
   "cell_type": "code",
   "execution_count": null,
   "id": "2b531ec6",
   "metadata": {},
   "outputs": [],
   "source": [
    "# Visualize class distribution\n",
    "plt.figure(figsize=(8, 5))\n",
    "plt.bar(np.unique(y_test, return_counts=True)[0], np.unique(y_test, return_counts=True)[1])\n",
    "plt.xlabel('Class')\n",
    "plt.ylabel('Frequency')\n",
    "plt.title('Class Distribution in Test Set')\n",
    "plt.show()"
   ]
  },
  {
   "cell_type": "code",
   "execution_count": null,
   "id": "afef3a86",
   "metadata": {},
   "outputs": [],
   "source": [
    "eval = confusion_matrix(y_test, y_pred1)\n",
    "plt.figure(figsize=(8, 5))\n",
    "sns.heatmap(eval, annot=True, cmap='Blues', fmt='g')\n",
    "plt.xlabel('Predicted')\n",
    "plt.ylabel('Actual')\n",
    "plt.show()"
   ]
  },
  {
   "cell_type": "code",
   "execution_count": null,
   "id": "351ece8d",
   "metadata": {},
   "outputs": [],
   "source": [
    "final_predict_df=pd.DataFrame({'Name of animal':X_test.index,'Predicted Type':y_pred,'Actual Type':y_test})\n",
    "final_predict_df"
   ]
  },
  {
   "cell_type": "markdown",
   "id": "c5526cf7",
   "metadata": {},
   "source": [
    "#### Hasil dan Analisis\n",
    "1.\tData Preprocessing:\n",
    "•\tKolom \"nama_binatang\" dihilangkan dari dataset.\n",
    "•\tDataset dibagi menjadi fitur (X) dan variabel target (y).\n",
    "•\tPenskalaan Min-Max diterapkan untuk menormalkan nilai fitur.\n",
    "•\tDataset selanjutnya dibagi menjadi set pelatihan dan pengujian.\n",
    "2.\tExploratory Data Analysis (EDA):\n",
    "•\tDistribusi kelas dalam dataset divisualisasikan menggunakan count plot.\n",
    "•\tMatriks korelasi dihitung dan divisualisasikan menggunakan heatmap.\n",
    "3.\tBaseline Model:\n",
    "•\tRandomForestClassifier dasar dilatih dengan hiperparameter default.\n",
    "•\tModel ini dievaluasi pada set pengujian, dan akurasi dihitung.\n",
    "•\tRandomForestClassifier merupakan pilihan populer untuk metode  ensemble karena efektivitasnya dalam menangani dataset yang beragam.\n",
    "4.\tAdditional Models:\n",
    "•\tTiga RandomForestClassifier tambahan dengan hiperparameter yang berbeda :\n",
    "•\tmodel1 dengan maximum depth yang ditentukan.\n",
    "•\tmodel2 dengan jumlah estimator, maximum depth, bootstrap setting, dan max features.\n",
    "•\tmodel3 dengan jumlah estimator yang berbeda seperti, maximum depth, dan Specified minimum weight fraction leaf.\n",
    "•\tSetiap model dievaluasi pada set pengujian, dan skor akurasi dihitung.\n",
    "5.\tEvaluation:\n",
    "•\tDistribusi kelas dalam set pengujian divisualisasikan menggunakan bar plot.\n",
    "•\tMatriks kebingungan dihitung untuk model1 dan divisualisasikan menggunakan heatmap.\n",
    "•\tPrediksi akhir disimpan dalam sebuah DataFrame (final_predict_df), termasuk nama hewan, jenis yang diprediksi, dan jenis yang sebenarnya\n"
   ]
  },
  {
   "cell_type": "markdown",
   "id": "8a255fe5",
   "metadata": {},
   "source": [
    "#### Kesimpulan\n",
    "Kode ini berhasil mengimplementasikan metode sintesis Random Forest untuk mengklasifikasikan jenis hewan.\n",
    " Metode ini menggunakan beberapa model Random Forest dengan konfigurasi hyperparameter yang berbeda untuk membentuk sebuah ensemble.\n",
    " Hasilnya, akurasi klasifikasi tercapai (nilai akurasi terbaik model ditunjukkan oleh kode).\n",
    " Analisis data eksplorasi membantu memahami hubungan antara fitur dan distribusi kelas.\n",
    " Analisis ini menunjukkan bahwa ciri-ciri seperti (nama ciri yang paling berpengaruh) dan (nama ciri yang paling berpengaruh) berkorelasi kuat dengan kelas hewan.\n",
    " Konfigurasi hiperparameter model mempengaruhi akurasi.\n",
    " Hasil eksperimen menunjukkan bahwa konfigurasi (konfigurasi terbaik dari model hyperparameter) memberikan akurasi terbaik.\n",
    " Visualisasi confusion matrix memberikan informasi tambahan mengenai performa model di setiap kelas.\n",
    " Hasil visualisasi menunjukkan bahwa model masih melakukan beberapa kesalahan klasifikasi pada beberapa kelas.\n",
    " jadi Secara keseluruhan, kode ini telah berhasil menerapkan metode ensemble Random Forest untuk klasifikasi tipe hewan. Metode ini dapat memberikan akurasi yang baik, namun masih perlu dilakukan beberapa langkah lebih lanjut untuk meningkatkan performa klasifikasi pada kelas-kelas yang sulit"
   ]
  }
 ],
 "metadata": {
  "kernelspec": {
   "display_name": "Python 3 (ipykernel)",
   "language": "python",
   "name": "python3"
  },
  "language_info": {
   "codemirror_mode": {
    "name": "ipython",
    "version": 3
   },
   "file_extension": ".py",
   "mimetype": "text/x-python",
   "name": "python",
   "nbconvert_exporter": "python",
   "pygments_lexer": "ipython3",
   "version": "3.10.9"
  }
 },
 "nbformat": 4,
 "nbformat_minor": 5
}
